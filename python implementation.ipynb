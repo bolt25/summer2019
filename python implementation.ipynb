{
 "cells": [
  {
   "cell_type": "code",
   "execution_count": 28,
   "metadata": {},
   "outputs": [],
   "source": [
    "%load_ext autoreload\n",
    "%autoreload 2\n",
    "from mysqlfile import database #importing class from my file"
   ]
  },
  {
   "cell_type": "code",
   "execution_count": 3,
   "metadata": {},
   "outputs": [],
   "source": [
    "db=database() #creating an object"
   ]
  },
  {
   "cell_type": "code",
   "execution_count": 12,
   "metadata": {},
   "outputs": [
    {
     "name": "stdout",
     "output_type": "stream",
     "text": [
      "Enter roll: 3\n",
      "Enter name: Rachel\n",
      "Enter std: 12th\n",
      "Enter DoB: 13/01/01\n",
      "Enter Gender: Female\n"
     ]
    }
   ],
   "source": [
    "#Student details \n",
    "\n",
    "r=int(input('Enter roll: '))\n",
    "n=input('Enter name: ')\n",
    "s=input('Enter std: ')\n",
    "d=input('Enter DoB: ')\n",
    "g=input('Enter Gender: ')"
   ]
  },
  {
   "cell_type": "code",
   "execution_count": 13,
   "metadata": {},
   "outputs": [],
   "source": [
    "#inserting details\n",
    "db.insert_details(r,n,s,d,g)"
   ]
  },
  {
   "cell_type": "code",
   "execution_count": 25,
   "metadata": {
    "scrolled": true
   },
   "outputs": [
    {
     "name": "stdout",
     "output_type": "stream",
     "text": [
      "Enter Roll number: 2\n",
      "Enter maths marks: 55\n",
      "Enter chemistry marks: 43\n",
      "Enter physics marks: 40\n"
     ]
    }
   ],
   "source": [
    "#student marks\n",
    "\n",
    "r=int(input('Enter Roll number: '))\n",
    "m=int(input('Enter maths marks: '))\n",
    "c=int(input('Enter chemistry marks: '))\n",
    "p=int(input('Enter physics marks: '))"
   ]
  },
  {
   "cell_type": "code",
   "execution_count": 26,
   "metadata": {},
   "outputs": [],
   "source": [
    "#inserting marks \n",
    "db.enter_marks(r,m,c,p)"
   ]
  },
  {
   "cell_type": "code",
   "execution_count": 27,
   "metadata": {},
   "outputs": [
    {
     "name": "stdout",
     "output_type": "stream",
     "text": [
      "(1, 'cody', '12th', '12/12/01', 'Male')\n",
      "(2, 'Zack', '12th', '23/06/01', 'Male')\n",
      "(3, 'Rachel', '12th', '13/01/01', 'Female')\n"
     ]
    }
   ],
   "source": [
    "cur=db.view_details()\n",
    "for i in cur.fetchall():\n",
    "    print(i)\n",
    "    \n",
    "#fetching all the details "
   ]
  },
  {
   "cell_type": "code",
   "execution_count": 29,
   "metadata": {},
   "outputs": [
    {
     "name": "stdout",
     "output_type": "stream",
     "text": [
      "(78, 75, 90, 1)\n",
      "(55, 43, 40, 2)\n",
      "(90, 85, 97, 3)\n"
     ]
    }
   ],
   "source": [
    "cur=db.view_marks()\n",
    "for i in cur.fetchall():\n",
    "    print(i)\n",
    "\n",
    "#fetching all the marks"
   ]
  },
  {
   "cell_type": "code",
   "execution_count": 30,
   "metadata": {},
   "outputs": [
    {
     "name": "stdout",
     "output_type": "stream",
     "text": [
      "('cody', '12th', 'Male', 90, 75, 78)\n",
      "('Zack', '12th', 'Male', 40, 43, 55)\n",
      "('Rachel', '12th', 'Female', 97, 85, 90)\n"
     ]
    }
   ],
   "source": [
    "cur=db.join()\n",
    "for i in cur.fetchall():\n",
    "    print(i) #phy,chem,maths\n",
    "\n",
    "#fetching all the joined details "
   ]
  }
 ],
 "metadata": {
  "kernelspec": {
   "display_name": "Python 3",
   "language": "python",
   "name": "python3"
  },
  "language_info": {
   "codemirror_mode": {
    "name": "ipython",
    "version": 3
   },
   "file_extension": ".py",
   "mimetype": "text/x-python",
   "name": "python",
   "nbconvert_exporter": "python",
   "pygments_lexer": "ipython3",
   "version": "3.7.3"
  }
 },
 "nbformat": 4,
 "nbformat_minor": 2
}
