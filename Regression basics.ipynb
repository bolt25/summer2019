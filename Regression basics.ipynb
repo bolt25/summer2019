{
 "cells": [
  {
   "cell_type": "code",
   "execution_count": 2,
   "metadata": {},
   "outputs": [],
   "source": [
    "import pandas as pd\n",
    "import matplotlib.pyplot as plt\n",
    "from math import sqrt\n",
    "import numpy as np"
   ]
  },
  {
   "cell_type": "code",
   "execution_count": 4,
   "metadata": {},
   "outputs": [
    {
     "data": {
      "text/plain": [
       "<matplotlib.collections.PathCollection at 0x1785500a0f0>"
      ]
     },
     "execution_count": 4,
     "metadata": {},
     "output_type": "execute_result"
    },
    {
     "data": {
      "image/png": "[encoded data removed]",
      "text/plain": [
       "<Figure size 432x288 with 1 Axes>"
      ]
     },
     "metadata": {
      "needs_background": "light"
     },
     "output_type": "display_data"
    }
   ],
   "source": [
    "X=pd.Series([1,2,3,4,5]) #dummy data\n",
    "Y=pd.Series([1.00,2.00,1.30,3.75,2.25]) #dummy target variable\n",
    "plt.scatter(X,Y,c='r') #plotting x vs y"
   ]
  },
  {
   "cell_type": "code",
   "execution_count": 9,
   "metadata": {},
   "outputs": [],
   "source": [
    "#defining all nesessary statisitc variables\n",
    "\n",
    "x_mean=X.mean() \n",
    "y_mean=Y.mean()\n",
    "x=[]  #X-x_mean() list\n",
    "y=[]  #Y-y_mean() list\n",
    "xy=[] #(X[i]-x_mean)*(Y[i]-y_mean) list\n",
    "x_sq=[] #(X-x_mean())**2 list\n",
    "y_sq=[] #(Y-y_mean())**2 list\n",
    "for i in range(len(X)):\n",
    "    x.append((X[i]-x_mean))\n",
    "    y.append((Y[i]-y_mean))\n",
    "    xy.append((X[i]-x_mean)*(Y[i]-y_mean))\n",
    "    x_sq.append((X[i]-x_mean)**2)\n",
    "    y_sq.append((Y[i]-y_mean)**2)"
   ]
  },
  {
   "cell_type": "code",
   "execution_count": 10,
   "metadata": {},
   "outputs": [
    {
     "data": {
      "text/plain": [
       "([-2.0, -1.0, 0.0, 1.0, 2.0],\n",
       " [-1.06, -0.06000000000000005, -0.76, 1.69, 0.18999999999999995],\n",
       " [2.12, 0.06000000000000005, -0.0, 1.69, 0.3799999999999999],\n",
       " [4.0, 1.0, 0.0, 1.0, 4.0],\n",
       " [1.1236000000000002,\n",
       "  0.0036000000000000064,\n",
       "  0.5776,\n",
       "  2.8560999999999996,\n",
       "  0.03609999999999998])"
      ]
     },
     "execution_count": 10,
     "metadata": {},
     "output_type": "execute_result"
    }
   ],
   "source": [
    "x,y,xy,x_sq,y_sq"
   ]
  },
  {
   "cell_type": "code",
   "execution_count": 11,
   "metadata": {},
   "outputs": [],
   "source": [
    "sum_xy=sum(xy)\n",
    "sum_x_sq=sum(x_sq)\n",
    "sum_y_sq=sum(y_sq)"
   ]
  },
  {
   "cell_type": "code",
   "execution_count": 12,
   "metadata": {},
   "outputs": [],
   "source": [
    "r=sum_xy/sqrt(sum_x_sq*sum_y_sq) #calculating pearson's correalation "
   ]
  },
  {
   "cell_type": "code",
   "execution_count": 13,
   "metadata": {},
   "outputs": [],
   "source": [
    "#consider y=m*x+b\n",
    "#finding regression line\n",
    "m=r*np.std(y)/np.std(x)\n",
    "b=y_mean-(m*x_mean)"
   ]
  },
  {
   "cell_type": "code",
   "execution_count": 14,
   "metadata": {},
   "outputs": [
    {
     "data": {
      "text/plain": [
       "(0.425, 0.7850000000000001)"
      ]
     },
     "execution_count": 14,
     "metadata": {},
     "output_type": "execute_result"
    }
   ],
   "source": [
    "m,b #slope,intercept "
   ]
  },
  {
   "cell_type": "code",
   "execution_count": 15,
   "metadata": {},
   "outputs": [],
   "source": [
    "y_pred=m*X+b"
   ]
  },
  {
   "cell_type": "code",
   "execution_count": 16,
   "metadata": {},
   "outputs": [
    {
     "data": {
      "text/plain": [
       "0    1.210\n",
       "1    1.635\n",
       "2    2.060\n",
       "3    2.485\n",
       "4    2.910\n",
       "dtype: float64"
      ]
     },
     "execution_count": 16,
     "metadata": {},
     "output_type": "execute_result"
    }
   ],
   "source": [
    "y_pred"
   ]
  },
  {
   "cell_type": "code",
   "execution_count": 17,
   "metadata": {},
   "outputs": [
    {
     "data": {
      "text/plain": [
       "<matplotlib.collections.PathCollection at 0x178551795c0>"
      ]
     },
     "execution_count": 17,
     "metadata": {},
     "output_type": "execute_result"
    },
    {
     "data": {
      "image/png": "[encoded data removed]",
      "text/plain": [
       "<Figure size 432x288 with 1 Axes>"
      ]
     },
     "metadata": {
      "needs_background": "light"
     },
     "output_type": "display_data"
    }
   ],
   "source": [
    "plt.scatter(X,Y,c='r')\n",
    "plt.plot(X,y_pred)\n",
    "plt.scatter(X,y_pred,c='b')"
   ]
  }
 ],
 "metadata": {
  "kernelspec": {
   "display_name": "Python 3",
   "language": "python",
   "name": "python3"
  },
  "language_info": {
   "codemirror_mode": {
    "name": "ipython",
    "version": 3
   },
   "file_extension": ".py",
   "mimetype": "text/x-python",
   "name": "python",
   "nbconvert_exporter": "python",
   "pygments_lexer": "ipython3",
   "version": "3.7.1"
  }
 },
 "nbformat": 4,
 "nbformat_minor": 2
}
